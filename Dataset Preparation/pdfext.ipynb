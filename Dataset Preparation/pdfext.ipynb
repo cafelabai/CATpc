{
 "cells": [
  {
   "cell_type": "code",
   "execution_count": 33,
   "metadata": {},
   "outputs": [],
   "source": [
    "import ollama\n",
    "import json\n",
    "from langchain_community.document_loaders import UnstructuredPDFLoader\n",
    "from langchain_experimental.llms.ollama_functions import OllamaFunctions\n",
    "from langchain_core.pydantic_v1 import BaseModel, Field"
   ]
  },
  {
   "cell_type": "code",
   "execution_count": 34,
   "metadata": {},
   "outputs": [],
   "source": [
    "# Load PDF and extract metadata\n",
    "def load_pdf_and_metadata(pdf_path):\n",
    "    loader = UnstructuredPDFLoader(pdf_path)\n",
    "    data = loader.load()\n",
    "    \n",
    "    # Extract metadata\n",
    "    metadata = data[0].metadata if data else {}\n",
    "    \n",
    "    # Extract text content\n",
    "    content = data[0].page_content if data else \"\"\n",
    "    \n",
    "    return content, metadata"
   ]
  },
  {
   "cell_type": "code",
   "execution_count": null,
   "metadata": {},
   "outputs": [],
   "source": [
    "# Main execution\n",
    "pdf_path = \"Summaries.pdf\"\n",
    "text, metadata = load_pdf_and_metadata(pdf_path)"
   ]
  },
  {
   "cell_type": "code",
   "execution_count": null,
   "metadata": {},
   "outputs": [],
   "source": [
    "def segment_text(text, segment_size=3):\n",
    "    paragraphs = text.split('\\n\\n')\n",
    "    segments = []\n",
    "    for i in range(0, len(paragraphs), segment_size):\n",
    "        segment = ' '.join(paragraphs[i:i+segment_size])\n",
    "        segments.append(segment)\n",
    "    return segments"
   ]
  },
  {
   "cell_type": "code",
   "execution_count": null,
   "metadata": {},
   "outputs": [],
   "source": [
    "segmented_text = segment_text(text)"
   ]
  },
  {
   "cell_type": "code",
   "execution_count": null,
   "metadata": {},
   "outputs": [],
   "source": [
    "def sliding_window_segments(text, window_size=3, overlap=1):\n",
    "    paragraphs = text\n",
    "    segments = []\n",
    "    i = 0\n",
    "    while i < len(paragraphs):\n",
    "        segment = ' '.join(paragraphs[i:i+window_size])\n",
    "        segments.append(segment)\n",
    "        i += (window_size - overlap)\n",
    "    return segments\n"
   ]
  },
  {
   "cell_type": "code",
   "execution_count": null,
   "metadata": {},
   "outputs": [],
   "source": [
    "better_segment = sliding_window_segments(segmented_text)"
   ]
  },
  {
   "cell_type": "code",
   "execution_count": 36,
   "metadata": {},
   "outputs": [],
   "source": [
    "# Initialize the OllamaFunctions model\n",
    "llm = OllamaFunctions(model=\"gemma2:2b\", temperature=0.7, format=\"json\")"
   ]
  },
  {
   "cell_type": "code",
   "execution_count": 41,
   "metadata": {},
   "outputs": [],
   "source": [
    "def generate_question(segment):\n",
    "    prompt = f\"Generate a question based on the following text, focusing on key ideas related to culturally relevant pedagogy:\\n\\n{segment}\"\n",
    "    try:\n",
    "        response = llm.invoke(prompt)\n",
    "        return str(response).strip()\n",
    "    except Exception as e:\n",
    "        print(f\"Error generating question: {e}\")\n",
    "        return None\n",
    "\n",
    "def extract_answer(segment, question):\n",
    "    prompt = f\"Based on the following text, provide a concise answer to the question. Ensure the answer comes directly from the text:\\n\\nText: {segment}\\n\\nQuestion: {question}\"\n",
    "    try:\n",
    "        response = llm.invoke(prompt)\n",
    "        return str(response).strip()\n",
    "    except Exception as e:\n",
    "        print(f\"Error extracting answer: {e}\")\n",
    "        return None\n",
    "\n",
    "def generate_qa_pairs(segments):\n",
    "    qa_pairs = []\n",
    "    for segment in segments:\n",
    "        question = generate_question(segment)\n",
    "        if question is None:\n",
    "            continue\n",
    "        answer = extract_answer(segment, question)\n",
    "        if answer is None:\n",
    "            continue\n",
    "        print(\"Raw Question:\", question)\n",
    "        print(\"Raw Answer:\", answer)\n",
    "        print(\"\\n\\n\")\n",
    "        qa_pairs.append({\n",
    "            'segment': segment,\n",
    "            'segment size': len(segment),\n",
    "            'question': question,\n",
    "            'answer': answer\n",
    "        })\n",
    "    return qa_pairs"
   ]
  },
  {
   "cell_type": "code",
   "execution_count": null,
   "metadata": {},
   "outputs": [],
   "source": [
    "qa_pairs = generate_qa_pairs(better_segment)\n",
    "\n",
    "# for i, pair in enumerate(qa_pairs, 1):\n",
    "#     print(f\"Pair {i}:\")\n",
    "#     print(f\"Q: {pair['question']}\")\n",
    "#     print(f\"A: {pair['answer']}\")\n",
    "#     print()"
   ]
  },
  {
   "cell_type": "code",
   "execution_count": 43,
   "metadata": {},
   "outputs": [],
   "source": [
    "def save_qa_pairs(qa_pairs, output_file):\n",
    "    with open(output_file, 'w') as f:\n",
    "        json.dump(qa_pairs, f, indent=2)\n",
    "\n",
    "# Example usage\n",
    "save_qa_pairs(qa_pairs, 'final_dataset.json')"
   ]
  },
  {
   "cell_type": "code",
   "execution_count": 45,
   "metadata": {},
   "outputs": [],
   "source": [
    "import json\n",
    "import csv\n",
    "\n",
    "def convert_json_to_csv(json_file, csv_file):\n",
    "    # Read the JSON file\n",
    "    with open(json_file, 'r', encoding='utf-8') as f:\n",
    "        qa_pairs = json.load(f)\n",
    "\n",
    "    # Open the CSV file in write mode with UTF-8 encoding\n",
    "    with open(csv_file, 'w', newline='', encoding='utf-8') as f:\n",
    "        # Extract the keys from the first item to create the header\n",
    "        keys = qa_pairs[0].keys()\n",
    "        writer = csv.DictWriter(f, fieldnames=keys)\n",
    "        \n",
    "        # Write the header row\n",
    "        writer.writeheader()\n",
    "\n",
    "        # Write each QA pair as a row in the CSV\n",
    "        for qa_pair in qa_pairs:\n",
    "            # Clean the question and answer fields\n",
    "            qa_pair['question'] = qa_pair['question'].replace(\"content=\", \"\").split(\"id=\")[0].strip()\n",
    "            qa_pair['answer'] = qa_pair['answer'].replace(\"content=\", \"\").split(\"id=\")[0].strip()\n",
    "            \n",
    "            writer.writerow(qa_pair)\n",
    "\n",
    "# Example usage\n",
    "convert_json_to_csv('final_dataset.json', 'final_dataset.csv')"
   ]
  },
  {
   "cell_type": "code",
   "execution_count": null,
   "metadata": {},
   "outputs": [],
   "source": []
  }
 ],
 "metadata": {
  "kernelspec": {
   "display_name": "ent_ext",
   "language": "python",
   "name": "python3"
  },
  "language_info": {
   "codemirror_mode": {
    "name": "ipython",
    "version": 3
   },
   "file_extension": ".py",
   "mimetype": "text/x-python",
   "name": "python",
   "nbconvert_exporter": "python",
   "pygments_lexer": "ipython3",
   "version": "3.11.9"
  }
 },
 "nbformat": 4,
 "nbformat_minor": 2
}
